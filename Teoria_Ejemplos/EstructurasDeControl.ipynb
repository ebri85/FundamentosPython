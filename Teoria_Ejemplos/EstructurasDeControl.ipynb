{
 "cells": [
  {
   "cell_type": "markdown",
   "metadata": {},
   "source": [
    "# Estructuras de Control\n",
    "\n",
    "* Permiten dirigir el flujo de nuestro algoritmo\n",
    "* Condicionales\n",
    "* Iterativas"
   ]
  },
  {
   "cell_type": "markdown",
   "metadata": {},
   "source": [
    "# Condicionales\n",
    "\n",
    "* \"Hacen una pregunta\"\n",
    "* Tienen un valor de verdad\n",
    "\n",
    "# Operadores de comparación\n",
    "\n",
    "* == igual que\n",
    "* \\> mayor que\n",
    "* \\>= mayor o igual que\n",
    "* < menor que \n",
    "* <= menor o igual que \n",
    "* != diferente de\n",
    "* not negación\n",
    "\n",
    "#### Condiciones - Ejemplo:\n",
    "* A > B\n",
    "* A == 50\n",
    "* 5 > 7\n",
    "* Nombre == \"Irene\""
   ]
  },
  {
   "cell_type": "code",
   "execution_count": null,
   "metadata": {},
   "outputs": [
    {
     "name": "stdout",
     "output_type": "stream",
     "text": [
      "4  es mayor que  5  ?\n",
      "False\n"
     ]
    }
   ],
   "source": [
    "def es_mayor(num1, num2):\n",
    "    print(num1, \" es mayor que \", num2, \" ?\")\n",
    "    print(num1 > num2)\n",
    "\n",
    "es_mayor(4, 5)\n"
   ]
  },
  {
   "cell_type": "markdown",
   "metadata": {},
   "source": [
    "## Circuitos (Operadores lógicos)\n",
    "  #### AND/OR\n",
    "\n",
    "* Permiten unir condiciones en una sola\n",
    "* Hacer varias preguntas en una condición\n",
    "* Podemos utilizar paréntesis para agruparlas"
   ]
  },
  {
   "cell_type": "markdown",
   "metadata": {},
   "source": [
    "* AND\n",
    "  * Verdadero si y solo si todas las sub-condiciones son verdaderas\n",
    "  * Falso si alguna o ambas sub-condiciones son falsa"
   ]
  },
  {
   "cell_type": "code",
   "execution_count": 158,
   "metadata": {},
   "outputs": [
    {
     "name": "stdout",
     "output_type": "stream",
     "text": [
      "Se cumple la condición?:  True\n",
      "Se cumple la condición?:  False\n",
      "Se cumple la condición?:  False\n",
      "Se cumple la condición?:  False\n"
     ]
    }
   ],
   "source": [
    "print(\"Se cumple la condición?: \", True and True)  # TRUE\n",
    "print(\"Se cumple la condición?: \", True and False)  # FALSE\n",
    "print(\"Se cumple la condición?: \", False and True)  # FALSE\n",
    "print(\"Se cumple la condición?: \", False and False)  # FALSE"
   ]
  },
  {
   "cell_type": "markdown",
   "metadata": {},
   "source": [
    "* OR\n",
    "  * Verdadero si alguna de las sub-condiciones es verdadera\n",
    "  * Falso si y solo si todas las sub-condiciones son falsas"
   ]
  },
  {
   "cell_type": "code",
   "execution_count": 159,
   "metadata": {},
   "outputs": [
    {
     "name": "stdout",
     "output_type": "stream",
     "text": [
      "Se cumple la condición?:  True\n",
      "Se cumple la condición?:  True\n",
      "Se cumple la condición?:  True\n",
      "Se cumple la condición?:  False\n"
     ]
    }
   ],
   "source": [
    "print(\"Se cumple la condición?: \", True or True) # TRUE\n",
    "print(\"Se cumple la condición?: \", True or False) # TRUE\n",
    "print(\"Se cumple la condición?: \", False or True) # TRUE\n",
    "print(\"Se cumple la condición?: \", False or False) # FALSE"
   ]
  },
  {
   "cell_type": "markdown",
   "metadata": {},
   "source": [
    "# Condicionales\n",
    "\n",
    "* Nos permiten bifurcar flujo del algoritmo haciendo preguntas\n",
    "* Bifurca la ejecución (cuando la respuesta a la pregunta es positiva, y cuando es negativa)\n",
    "\n",
    "Si **[Condición]** entonces: **[Flujo 1]**, si no: **[Flujo 2]**"
   ]
  },
  {
   "cell_type": "code",
   "execution_count": 83,
   "metadata": {},
   "outputs": [
    {
     "name": "stdout",
     "output_type": "stream",
     "text": [
      "Es Impar!!!!!\n"
     ]
    }
   ],
   "source": [
    "def es_par(num):\n",
    "    residuo = num % 2\n",
    "    if(residuo == 0):\n",
    "        print(\"Es par !!!!\")\n",
    "    else:\n",
    "        print(\"Es Impar!!!!!\")\n",
    "es_par(7)"
   ]
  },
  {
   "cell_type": "markdown",
   "metadata": {},
   "source": [
    "# Iteraciones\n",
    "\n",
    "Mientras: **[Condición]** repita: **[Flujo]**"
   ]
  },
  {
   "cell_type": "code",
   "execution_count": null,
   "metadata": {},
   "outputs": [
    {
     "name": "stdout",
     "output_type": "stream",
     "text": [
      "7\n"
     ]
    }
   ],
   "source": [
    "def contar_mil():\n",
    "    num = 1\n",
    "    while num <= 1000:\n",
    "        print(num)\n",
    "        num = num + 1\n",
    "\n",
    "contar_mil()"
   ]
  },
  {
   "cell_type": "code",
   "execution_count": 150,
   "metadata": {},
   "outputs": [
    {
     "data": {
      "text/plain": [
       "'\\nCrear un menu dinamico, que pregunte hasta indicar lo contrario si quiere agregar un item a las lista:\\nLista de series\\nLista de Canciones\\nLista de Juegos\\n\\n\\nHola Bienvenido !\\n\\nDesea agregar un item ?\\n1. Lista de Series\\n2. Lista de Canciones\\n3. Lista de Juegos\\n4. Salir\\n\\n>>>>1\\n\\nEscriba la serie agregar: >>>>>Breaking Bad\\nBreaking Bad Agregado (Se debe agregar esa seria en el txt de series)\\n\\n\\nHola Bienvenido !\\n\\nDesea agregar un item ?\\n1. Lista de Series\\n2. Lista de Canciones\\n3. Lista de Juegos\\n4. Salir\\n>>>> 4\\n\\nAdios !!!\\nTERMINA PROGRAMA\\n\\n'"
      ]
     },
     "execution_count": 150,
     "metadata": {},
     "output_type": "execute_result"
    }
   ],
   "source": [
    "# ETA 28/11/2024 11:59 pm\n",
    "# LAb #2\n",
    "\n",
    "# funcion calcular factorial\n",
    "# Funcion calcular si el numero es primo\n",
    "# Funcion sumar todos los numeros pares en un rango del 1 al X\n",
    "# Funcion contar el numero de \"a\" en una palabra\n",
    "\n",
    "\n",
    "# ETA 6/12/2024 11:59 pm\n",
    "# Proyecto\n",
    "\n",
    "\n",
    "\"\"\"\n",
    "Crear un menu dinamico, que pregunte hasta indicar lo contrario si quiere agregar un item a las lista:\n",
    "Lista de series\n",
    "Lista de Canciones\n",
    "Lista de Juegos\n",
    "\n",
    "\n",
    "Hola Bienvenido !\n",
    "\n",
    "Desea agregar un item ?\n",
    "1. Lista de Series\n",
    "2. Lista de Canciones\n",
    "3. Lista de Juegos\n",
    "4. Salir\n",
    "\n",
    ">>>>1\n",
    "\n",
    "Escriba la serie agregar: >>>>>Breaking Bad\n",
    "Breaking Bad Agregado (Se debe agregar esa seria en el txt de series)\n",
    "\n",
    "\n",
    "Hola Bienvenido !\n",
    "\n",
    "Desea agregar un item ?\n",
    "1. Lista de Series\n",
    "2. Lista de Canciones\n",
    "3. Lista de Juegos\n",
    "4. Salir\n",
    ">>>> 4\n",
    "\n",
    "Adios !!!\n",
    "TERMINA PROGRAMA\n",
    "\n",
    "\"\"\"\n",
    "\n"
   ]
  },
  {
   "cell_type": "markdown",
   "metadata": {},
   "source": [
    "### Break\n",
    "\n",
    "Sentencia \"break\" permite terminar con un ciclo de forma anticipada"
   ]
  },
  {
   "cell_type": "code",
   "execution_count": 161,
   "metadata": {},
   "outputs": [
    {
     "name": "stdout",
     "output_type": "stream",
     "text": [
      "a\n",
      "a\n",
      "a\n",
      "a\n",
      "b\n",
      "t\n",
      "Encontre el caracter  t\n",
      "Final de la revision\n"
     ]
    }
   ],
   "source": [
    "def encontrar_caracter(char, cadena):\n",
    "    for i in cadena:\n",
    "        print(i)\n",
    "        if(i == char):\n",
    "            print(\"Encontre el caracter \", char)\n",
    "            break\n",
    "    print(\"Final de la revision\")\n",
    "\n",
    "encontrar_caracter(\"t\", \"aaaabtcdfdfdfd\")"
   ]
  },
  {
   "cell_type": "markdown",
   "metadata": {},
   "source": [
    "### Continue\n",
    "\n",
    "Sentencia \"continue\" permite omitir un ciclo específico de una estructura de control"
   ]
  },
  {
   "cell_type": "code",
   "execution_count": null,
   "metadata": {},
   "outputs": [
    {
     "name": "stdout",
     "output_type": "stream",
     "text": [
      "25\n"
     ]
    }
   ],
   "source": [
    "resultado = 0\n",
    "for i in range(1, 11):\n",
    "    if i % 2 == 0:\n",
    "        continue\n",
    "    resultado = resultado +  i\n",
    "print(resultado)"
   ]
  }
 ],
 "metadata": {
  "kernelspec": {
   "display_name": "Python 3",
   "language": "python",
   "name": "python3"
  },
  "language_info": {
   "codemirror_mode": {
    "name": "ipython",
    "version": 3
   },
   "file_extension": ".py",
   "mimetype": "text/x-python",
   "name": "python",
   "nbconvert_exporter": "python",
   "pygments_lexer": "ipython3",
   "version": "3.12.3"
  },
  "orig_nbformat": 4
 },
 "nbformat": 4,
 "nbformat_minor": 2
}
