{
 "cells": [
  {
   "cell_type": "markdown",
   "metadata": {},
   "source": [
    "# Estructuras de Datos (Antes repaso lab 1 y 2 y return en funciones)\n",
    "\n",
    "- Forma de organizar datos\n",
    "- Ayudan en diferentes situaciones\n",
    "- Listas, Tuplas, Sets y Diccionarios\n",
    "- https://docs.python.org/3/tutorial/datastructures.html"
   ]
  },
  {
   "cell_type": "markdown",
   "metadata": {},
   "source": [
    "## Listas\n",
    "\n",
    "- Colección de elementos\n",
    "- Indexadas\n",
    "- Se representan con paréntesis cuadrados “[ ]”\n",
    "- Elementos van adentro de los paréntesis\n",
    "- Separados por coma"
   ]
  },
  {
   "cell_type": "code",
   "execution_count": null,
   "metadata": {},
   "outputs": [
    {
     "name": "stdout",
     "output_type": "stream",
     "text": [
      "[1, 2, 3, 4, 50, 8700202]\n",
      "[10, 'Andres', True, 9]\n",
      "[]\n",
      "[1]\n",
      "[1, 'Hola']\n",
      "[1, 'Hola', True]\n"
     ]
    }
   ],
   "source": [
    "lista_numeros = [ 1, 2, 3, 4, 50, 8700202 ]\n",
    "lista_nombres = [ \"Andres\", \"Irene\", \"Sergio\", \"Andrea\" ]\n",
    "lista_generica = [ 10, \"Andres\", True, 9 ]\n",
    "lista_vacia = []\n",
    "\n",
    "print(lista_numeros)\n",
    "print(lista_generica)\n",
    "print(lista_vacia)\n",
    "\n",
    "lista_vacia.append(1)\n",
    "print(lista_vacia)\n",
    "lista_vacia.append(\"Hola\")\n",
    "print(lista_vacia)\n",
    "lista_vacia.append(True)\n",
    "\n",
    "print(lista_vacia)"
   ]
  },
  {
   "cell_type": "markdown",
   "metadata": {},
   "source": [
    "### Listas - Indexamiento\n",
    "\n",
    "- El primer elemento de la lista esta en la posición 0\n",
    "- Los paréntesis cuadrados nos permiten obtener un elemento especifico de la lista por su\n",
    "indice, o posición"
   ]
  },
  {
   "cell_type": "code",
   "execution_count": null,
   "metadata": {},
   "outputs": [
    {
     "name": "stdout",
     "output_type": "stream",
     "text": [
      "70\n",
      "\n"
     ]
    }
   ],
   "source": [
    "lista_numeros = [10, 20, 30, 35, 50, 100, 78, 53, 70, 96, 3222]\n",
    "print(lista_numeros[8])\n",
    "\n",
    "\n",
    "\n",
    "def sumatoria(lista):\n",
    "    total = 0\n",
    "    for i in range(0, len(lista)):\n",
    "        total += lista[i]\n",
    "    return total\n",
    "\n"
   ]
  },
  {
   "cell_type": "markdown",
   "metadata": {},
   "source": [
    "### Listas - Modificando las Listas\n",
    "\n",
    "- Agregar elementos (append, extend, insert)\n",
    "- Borrar elementos (remove, pop, clear)"
   ]
  },
  {
   "cell_type": "code",
   "execution_count": 3,
   "metadata": {},
   "outputs": [
    {
     "name": "stdout",
     "output_type": "stream",
     "text": [
      "[0, 1, 2, 3, 0]\n",
      "[0, 1, 2, 3, 0, 4, 5, 6]\n",
      "[-1, 0, 1, 2, 3, 0, 4, 5, 6]\n",
      "[-1, 1, 2, 3, 0, 4, 5, 6]\n",
      "[-1, 0, 1, 2, 3, 0, 4, 5, 6]\n",
      "2\n",
      "[-1, 0, 1, 3, 0, 4, 5, 6]\n",
      "[6, 5, 4, 0, 3, 1, 0, -1]\n",
      "2\n",
      "[-1, 0, 0, 1, 3, 4, 5, 6]\n"
     ]
    }
   ],
   "source": [
    "#         0  1  2  3\n",
    "lista = [ 0, 1, 2, 3 ]\n",
    "# Agregando elementos:\n",
    "lista.append(0) # Agregamos el 0 al final\n",
    "print(lista)\n",
    "otra_lista = [ 4, 5, 6 ] \n",
    "lista.extend(otra_lista) # Extendemos la lista, con otra lista\n",
    "print(lista)\n",
    "lista.insert(0, -1) # Insertamos el valor -1 en la posición 0\n",
    "#           0  1  2  3  4  ...\n",
    "# lista = [-1, 0, 1, 2, 3, ... ]\n",
    "print(lista)\n",
    "#Eliminando elementos\n",
    "lista.remove(0) # Removemos el primer 0 que se encuentre en la lista\n",
    "print(lista)\n",
    "lista.insert(1, 0)\n",
    "print(lista)\n",
    "numero = lista.pop(3) # Remueve y retorna el elemento en la posición 3\n",
    "print(numero)\n",
    "print(lista)\n",
    "lista.reverse()\n",
    "print(lista)\n",
    "print(lista.count(0))\n",
    "lista.sort()\n",
    "print(lista)\n",
    "lista.clear() # Borra todos los elementos de la lista"
   ]
  },
  {
   "cell_type": "markdown",
   "metadata": {},
   "source": [
    "### Ejercicios con listas"
   ]
  },
  {
   "cell_type": "code",
   "execution_count": null,
   "metadata": {},
   "outputs": [],
   "source": [
    "# 2 listas\n",
    "nombres = [\"Dario\", \"juan\", \"Pedro\", \"Maria\"]\n",
    "notas = [50, 80, 70, 95]\n",
    "# imprimir el nombre seguido de la nota\n",
    "\n",
    "\n",
    "\"\"\"\n",
    "salida \n",
    "Dario 50\n",
    "juan 80\n",
    "Pedro 70\n",
    "Maria 95\n",
    "\"\"\""
   ]
  },
  {
   "cell_type": "markdown",
   "metadata": {},
   "source": [
    "### Listas - Otras operaciones\n",
    "\n",
    "- Built-in functions\n",
    "- Ordenamiento (numeros, string, y otros)"
   ]
  },
  {
   "cell_type": "code",
   "execution_count": null,
   "metadata": {},
   "outputs": [],
   "source": [
    "lista = [3, 4, 2, 1, 5, 8, 23, 5]\n",
    "print(lista)\n",
    "suma_numeros = sum(lista)\n",
    "numero_mas_alto = max(lista)\n",
    "numero_mas_bajo = min(lista)\n",
    "cantidad = len(lista)\n",
    "promedio = suma_numeros / cantidad\n",
    "lista.sort()\n",
    "print(suma_numeros)\n",
    "print(numero_mas_alto)\n",
    "print(numero_mas_bajo)\n",
    "print(cantidad)\n",
    "print(promedio)\n",
    "print(lista)"
   ]
  },
  {
   "cell_type": "markdown",
   "metadata": {},
   "source": [
    "# Tuplas\n",
    "\n",
    "- Similar a las listas\n",
    "- No se pueden modificar\n",
    "- Indexadas\n",
    "- Elementos van entre paréntesis normales ()"
   ]
  },
  {
   "cell_type": "code",
   "execution_count": null,
   "metadata": {},
   "outputs": [],
   "source": [
    "tupla_nombres = (\"Andres\", \"Sergio\", \"Irene\")\n",
    "tupla_numeros = (1, 2, 3, 4)\n",
    "tupla_generica = (\"Irene\", 15, 5, True)\n",
    "print(tupla_nombres)\n",
    "print(tupla_numeros)\n",
    "print(tupla_generica)"
   ]
  },
  {
   "cell_type": "markdown",
   "metadata": {},
   "source": [
    "### Tuplas - Operaciones\n",
    "\n",
    "- Básicamente las mismas de las Listas excepto por las que modifican la tupla (append, extend, remove, clear, pop)"
   ]
  },
  {
   "cell_type": "code",
   "execution_count": null,
   "metadata": {},
   "outputs": [],
   "source": [
    "tupla_numeros = (4, 6, 5, 3, 1)\n",
    "max(tupla_numeros)\n",
    "min(tupla_numeros)\n",
    "len(tupla_numeros)\n",
    "# No se puede utilizar tupla_numeros.sort() porque esto modificaría la tupla y no es valido"
   ]
  },
  {
   "cell_type": "markdown",
   "metadata": {},
   "source": [
    "# Conjuntos (set)\n",
    "\n",
    "- Colección de elementos únicos sin orden\n",
    "- No son indexables\n",
    "- Elementos van entre llaves {}"
   ]
  },
  {
   "cell_type": "code",
   "execution_count": 4,
   "metadata": {},
   "outputs": [
    {
     "name": "stdout",
     "output_type": "stream",
     "text": [
      "{'Sergio', 'Andres', 'Irene'}\n",
      "{1, 2, 3, 4}\n",
      "{83165617, 'Irene'}\n"
     ]
    }
   ],
   "source": [
    "set_nombres = { \"Andres\", \"Sergio\", \"Irene\", \"Andres\" }\n",
    "set_numeros = { 1, 2, 3, 4, 1 }\n",
    "set_generica = { \"Irene\", 83165617 }\n",
    "print(set_nombres)\n",
    "print(set_numeros)\n",
    "print(set_generica)"
   ]
  },
  {
   "cell_type": "markdown",
   "metadata": {},
   "source": [
    "- Operaciones de conjuntos (intersección, unión, diferencia, etc)\n",
    "- Añadir elementos (add)\n",
    "- Borrar elementos (remove, discard, pop, clear)"
   ]
  },
  {
   "cell_type": "code",
   "execution_count": null,
   "metadata": {},
   "outputs": [],
   "source": [
    "set_colores_a = {\"azul\", \"verde\", \"morado\"}\n",
    "set_colores_b = {\"rojo\", \"amarillo\", \"verde\"}\n",
    "set_colores_a.add(\"negro\")\n",
    "set_colores_a.discard(\"morado\")\n",
    "print(set_colores_a.union(set_colores_b))\n",
    "print(set_colores_a.intersection(set_colores_b))\n",
    "print(set_colores_a.difference(set_colores_b))\n",
    "print(set_colores_b.difference(set_colores_a))"
   ]
  },
  {
   "cell_type": "markdown",
   "metadata": {},
   "source": [
    "# Conversión"
   ]
  },
  {
   "cell_type": "code",
   "execution_count": 5,
   "metadata": {},
   "outputs": [
    {
     "name": "stdout",
     "output_type": "stream",
     "text": [
      "{1, 2, 3, 4}\n",
      "[1, 2, 3, 4]\n"
     ]
    }
   ],
   "source": [
    "mi_lista = [ 1, 2, 3, 4, 2 ]\n",
    "mi_set = set(mi_lista)\n",
    "print(mi_set)\n",
    "otra_lista = list(mi_set)\n",
    "print(otra_lista)"
   ]
  },
  {
   "cell_type": "markdown",
   "metadata": {},
   "source": [
    "# Diccionarios\n",
    "\n",
    "- Colección de elementos de tipo llave: valor\n",
    "- Indexables por llave\n",
    "- Elementos van entre llaves {} (igual que los sets)\n",
    "- https://docs.python.org/3/tutorial/datastructures.html#dictionaries"
   ]
  },
  {
   "cell_type": "code",
   "execution_count": 7,
   "metadata": {},
   "outputs": [
    {
     "name": "stdout",
     "output_type": "stream",
     "text": [
      "31\n"
     ]
    }
   ],
   "source": [
    "un_diccionario = { \"nombre\": \"María\", \"apellido\": \"Gómez\", \"edad\": 31 }\n",
    "print(un_diccionario[\"edad\"])"
   ]
  },
  {
   "cell_type": "markdown",
   "metadata": {},
   "source": [
    "### Diccionarios - Operaciones\n",
    "\n",
    "- Operaciones de diccionarios\n",
    "- Añadir elementos (update)\n",
    "- Borrar elementos (pop)"
   ]
  },
  {
   "cell_type": "code",
   "execution_count": null,
   "metadata": {},
   "outputs": [],
   "source": [
    "print(un_diccionario[\"apellido\"])\n",
    "un_diccionario[\"nombre\"] = \"Andrés\"\n",
    "print(un_diccionario[\"nombre\"])\n",
    "un_diccionario.pop(\"edad\")\n",
    "print(un_diccionario[\"edad\"]) # Oops"
   ]
  },
  {
   "cell_type": "markdown",
   "metadata": {},
   "source": [
    "# Lab3\n",
    "\n",
    "- Hacer una funcion que busque el numero mas pequeno en una lista, no se puede usar min ni ninguna funcion de Python\n",
    "- Funcion para obtener la posicion del primer numero no repetido de una lista\n",
    "- Funcion, de una lista de palabras, generar una lista de cantidad de palabras respectivamente"
   ]
  }
 ],
 "metadata": {
  "kernelspec": {
   "display_name": "Python 3",
   "language": "python",
   "name": "python3"
  },
  "language_info": {
   "codemirror_mode": {
    "name": "ipython",
    "version": 3
   },
   "file_extension": ".py",
   "mimetype": "text/x-python",
   "name": "python",
   "nbconvert_exporter": "python",
   "pygments_lexer": "ipython3",
   "version": "3.12.3"
  },
  "orig_nbformat": 4
 },
 "nbformat": 4,
 "nbformat_minor": 2
}
