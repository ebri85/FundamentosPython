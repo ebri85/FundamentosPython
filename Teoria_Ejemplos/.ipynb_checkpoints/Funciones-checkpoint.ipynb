{
 "cells": [
  {
   "cell_type": "markdown",
   "metadata": {},
   "source": [
    "# Funciones\n",
    "\n",
    "* Son piezas de código que ejecutan alguna instrucción\n",
    "* Permite reutilizar código de forma sencilla\n",
    "* Algunas vienen incluidas en el lenguaje\n",
    "* Se pueden crear funciones personalizadas\n",
    "* Estructura: nombre_de_la_funcion(parámetro1, parámetro2,...parámetro n):\n",
    "    cuerpo de la función\n",
    "* https://docs.python.org/3/library/functions.html"
   ]
  },
  {
   "cell_type": "code",
   "execution_count": null,
   "metadata": {},
   "outputs": [
    {
     "data": {
      "text/plain": [
       "'\\n# Tener los resultados de los calculos matematicos de 2 numeeros\\ndef suma(num1, num2):\\n    total = num1 + num2\\n    print(\"La suma es:\", total)\\n\\ndef resta(num1, num2):\\n    total = num1 - num2\\n    print(\"La resta es: \", total)\\n\\ndef division(num1, num2):\\n    total = num1 / num2\\n    print(\"La division es: \", total)\\n\\ndef multiplicacion(num1, num2):\\n    total = num1 * num2\\n    print(\"La multiplicacion es: \", total)\\n\\ndef calculos(num1, num2):\\n    print(\"****TABLA DE RESULTADOS PARA\", num1, num2)\\n    suma(num1, num2)\\n    resta(num1, num2)\\n    division(num1, num2)\\n    multiplicacion(num1, num2)\\n\\ncalculos(30,3)\\ncalculos(24,4)\\ncalculos(245,38)\\ncalculos(32,16)\\n'"
      ]
     },
     "execution_count": 92,
     "metadata": {},
     "output_type": "execute_result"
    }
   ],
   "source": [
    "\n",
    "\"\"\"\n",
    "# Tener los resultados de los calculos matematicos de 2 numeeros\n",
    "def suma(num1, num2):\n",
    "    total = num1 + num2\n",
    "    print(\"La suma es:\", total)\n",
    "\n",
    "def resta(num1, num2):\n",
    "    total = num1 - num2\n",
    "    print(\"La resta es: \", total)\n",
    "\n",
    "def division(num1, num2):\n",
    "    total = num1 / num2\n",
    "    print(\"La division es: \", total)\n",
    "\n",
    "def multiplicacion(num1, num2):\n",
    "    total = num1 * num2\n",
    "    print(\"La multiplicacion es: \", total)\n",
    "\n",
    "def calculos(num1, num2):\n",
    "    print(\"****TABLA DE RESULTADOS PARA\", num1, num2)\n",
    "    suma(num1, num2)\n",
    "    resta(num1, num2)\n",
    "    division(num1, num2)\n",
    "    multiplicacion(num1, num2)\n",
    "\n",
    "calculos(30,3)\n",
    "calculos(24,4)\n",
    "calculos(245,38)\n",
    "calculos(32,16)\n",
    "\"\"\""
   ]
  },
  {
   "cell_type": "markdown",
   "metadata": {},
   "source": [
    "### Ejercicios\n",
    "\n",
    "* Utilice la función min para encontrar el número más bajo entre: 25, 30, 10, 22\n",
    "* Utilice la función max para encontrar el número más alto entre: 25, 30, 10, 22\n",
    "* Utilice la función len para encontrar el largo de una variable de tipo string con el texto: “Todas las limitaciones son autoimpuestas”\n"
   ]
  },
  {
   "cell_type": "code",
   "execution_count": 98,
   "metadata": {},
   "outputs": [
    {
     "name": "stdout",
     "output_type": "stream",
     "text": [
      "1.4\n",
      "30\n",
      "5\n"
     ]
    }
   ],
   "source": [
    "#Aquí va el código\n",
    "print(min(25.52,3.0,1.4,2.5))\n",
    "print(max(25,30,10,22))\n",
    "print(len(\"Todas\"))"
   ]
  },
  {
   "cell_type": "markdown",
   "metadata": {},
   "source": [
    "# Métodos\n",
    "\n",
    "* Funcionan de la misma forma que las funciones\n",
    "* Funciones especializadas que se “aplican” sobre objetos\n",
    "* Disponibilidad dependiendo del tipo\n",
    "* https://www.w3schools.com/python/python_ref_string.asp\n",
    "\n",
    "### Invocación\n",
    "\n",
    "* Se debe “llamar” al método para invocarlo\n",
    "* Objeto sobre el cual se va a invocar el método por nombre y argumentos entre paréntesis\n",
    "* Aunque no tenga argumentos se deben incluir los paréntesis\n",
    "\n",
    "Ejemplos: "
   ]
  },
  {
   "cell_type": "code",
   "execution_count": null,
   "metadata": {},
   "outputs": [
    {
     "name": "stdout",
     "output_type": "stream",
     "text": [
      "1. hola\n",
      "2. Hola\n",
      "3. HOLA\n",
      "4. hola\n"
     ]
    }
   ],
   "source": [
    "saludo = \"hola\" # variable saludo es un objeto\n",
    "print(\"1. \" + saludo)\n",
    "saludo_capitalizado = saludo.capitalize()\n",
    "print(\"2. \" + saludo_capitalizado)\n",
    "saludo_mayusculas = saludo.upper()\n",
    "print(\"3. \" + saludo_mayusculas)\n",
    "saludo_minusculas = saludo_mayusculas.lower()\n",
    "print(\"4. \" + saludo_minusculas)"
   ]
  },
  {
   "cell_type": "markdown",
   "metadata": {},
   "source": [
    "### Ejercicios\n",
    "\n",
    "Realice los siguientes ejercicios con el string: **“You have no responsibility to live up to\n",
    "what other people think you ought to accomplish. I have no responsibility to be like\n",
    "they expect me to be. It’s their mistake, not my failing.”** (Richard Feynman).\n",
    "\n",
    "* Encontrar el número de veces que aparece: “you”\n",
    "* Crear otra variable con el string todo en mayúsculas\n",
    "* Encontrar el número de veces que aparece: “you” sin diferenciar entre mayúsculas y minúsculas, en el string original\n"
   ]
  },
  {
   "cell_type": "code",
   "execution_count": 95,
   "metadata": {},
   "outputs": [
    {
     "name": "stdout",
     "output_type": "stream",
     "text": [
      "1\n",
      "YOU HAVE NO RESPONSIBILITY TO LIVE UP TO WHAT OTHER PEOPLE THINK YOU OUGHT TO ACCOMPLISH. I HAVE NO RESPONSIBILITY TO BE LIKE THEY EXPECT ME TO BE. IT'S THEIR MISTAKE, NOT MY FAILING.\n",
      "2\n"
     ]
    }
   ],
   "source": [
    "#Aquí va el código\n",
    "frase = \"You have no responsibility to live up to what other people think you ought to accomplish. I have no responsibility to be like they expect me to be. It's their mistake, not my failing.\"\n",
    "print(frase.count(\"you\"))\n",
    "frase_mayusculas = frase.upper()\n",
    "print(frase_mayusculas)\n",
    "print(frase_mayusculas.count(\"YOU\"))\n",
    "#print(frase.lower().count(\"you\"))"
   ]
  },
  {
   "cell_type": "markdown",
   "metadata": {},
   "source": [
    "# Creación de funciones\n",
    "\n",
    "* Se inicia con la palabra def\n",
    "* Bloque de código\n",
    "* Reutilizable\n",
    "* Acción única relacionada a su nombre\n",
    "* Algoritmo (entradas, proceso y salida)\n",
    "\n",
    "Ejemplo: \n",
    "\n",
    "def nombre_funcion(entrada_1, entrada_2, ..., entrada_n):  \n",
    "____bloque_a_ejecutar  \n",
    "____return salida (Opcional)\n",
    "\n",
    "### Creación de estructura\n",
    "\n",
    "* Nombre\n",
    "* Invoca el código\n",
    "* Utilizar nombre nemo-técnico\n",
    "\n",
    "Ejemplos:\n",
    "\n",
    "* factorial\n",
    "* calcular_pi\n",
    "* cantidad_digitos\n",
    "\n",
    "### Parámetros\n",
    "\n",
    "* Argumentos, Entradas, Parámetros\n",
    "* Entre paréntesis después del nombre de la función\n",
    "* Nombres deben de ser significativos\n",
    "\n",
    "Ejemplos:\n",
    "\n",
    "* (numero)\n",
    "* (cantidad_terminos)\n",
    "* (nombre1, nombre2)\n",
    "\n",
    "### Salida\n",
    "\n",
    "* Opcional\n",
    "* Resultado final de ejecutar la función\n",
    "* Se denota con la palabra return\n",
    "* Última linea de la función\n",
    "\n",
    "Ejemplos:\n",
    "\n",
    "* return suma\n",
    "* return pi*4\n",
    "* return resultado\n",
    "\n",
    "### Ejemplo (falta algo...): "
   ]
  },
  {
   "cell_type": "code",
   "execution_count": 96,
   "metadata": {},
   "outputs": [],
   "source": [
    "def factorial(numero):\n",
    "    resultado = 1\n",
    "    for i in range(numero):\n",
    "        resultado *= i\n",
    "    return resultado"
   ]
  },
  {
   "cell_type": "markdown",
   "metadata": {},
   "source": [
    "Ejercicios: \n",
    "\n",
    "* Función que reciba un número y retorne True si el numero es par y False si es impar.\n",
    "* Función que reciba un número y retorne True si el numero es primo y False si no es primo.\n",
    "* Utilizar la función anterior para hacer otra función que retorne la cantidad de números primos entre 2 números.\n",
    "* Utilizar la Función de print para imprimir en pantalla el resultado de ejecutar la función anterior para encontrar la cantidad de números primos entre 0 y 100"
   ]
  }
 ],
 "metadata": {
  "kernelspec": {
   "display_name": "Python 3",
   "language": "python",
   "name": "python3"
  },
  "language_info": {
   "codemirror_mode": {
    "name": "ipython",
    "version": 3
   },
   "file_extension": ".py",
   "mimetype": "text/x-python",
   "name": "python",
   "nbconvert_exporter": "python",
   "pygments_lexer": "ipython3",
   "version": "3.12.3"
  },
  "orig_nbformat": 4
 },
 "nbformat": 4,
 "nbformat_minor": 2
}
